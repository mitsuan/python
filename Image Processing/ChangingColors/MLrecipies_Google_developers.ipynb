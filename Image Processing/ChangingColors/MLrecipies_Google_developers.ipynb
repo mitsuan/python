{
 "cells": [
  {
   "cell_type": "code",
   "execution_count": 42,
   "metadata": {
    "collapsed": false
   },
   "outputs": [
    {
     "name": "stdout",
     "output_type": "stream",
     "text": [
      "['orange']\n"
     ]
    },
    {
     "name": "stderr",
     "output_type": "stream",
     "text": [
      "/Applications/anaconda/lib/python3.5/site-packages/sklearn/utils/validation.py:386: DeprecationWarning: Passing 1d arrays as data is deprecated in 0.17 and willraise ValueError in 0.19. Reshape your data either using X.reshape(-1, 1) if your data has a single feature or X.reshape(1, -1) if it contains a single sample.\n",
      "  DeprecationWarning)\n"
     ]
    }
   ],
   "source": [
    "#ML recipie1\n",
    "from sklearn import tree\n",
    "features=[[140,1],[130,1],[150,0],[170,0]];\n",
    "labels=['apple','apple','orange','orange']\n",
    "clf=tree.DecisionTreeClassifier()   #training the classifier\n",
    "clf=clf.fit(features,labels); #fit--> find patterns in data\n",
    "print(clf.predict([146,0]))   #prediction"
   ]
  },
  {
   "cell_type": "code",
   "execution_count": 5,
   "metadata": {
    "collapsed": false
   },
   "outputs": [
    {
     "name": "stdout",
     "output_type": "stream",
     "text": [
      "['sepal length (cm)', 'sepal width (cm)', 'petal length (cm)', 'petal width (cm)']\n",
      "['setosa' 'versicolor' 'virginica']\n",
      "[ 5.1  3.5  1.4  0.2]\n",
      "0\n",
      "[0 1 2]\n",
      "[0 1 2]\n",
      "<class 'pydotplus.graphviz.Dot'>\n"
     ]
    }
   ],
   "source": [
    "#ML recipie 2\n",
    "from sklearn.datasets import load_iris\n",
    "from sklearn import tree\n",
    "import numpy as np \n",
    "iris=load_iris()\n",
    "print(iris.feature_names)\n",
    "print(iris.target_names)\n",
    "print(iris.data[0])\n",
    "print(iris.target[0])\n",
    "\n",
    "test_idx=[0,50,100];\n",
    "\n",
    "#train data\n",
    "train_target=np.delete(iris.target,test_idx);\n",
    "train_data=np.delete(iris.data,test_idx,axis=0);\n",
    "\n",
    "#test data\n",
    "test_target=iris.target[test_idx];\n",
    "test_data=iris.data[test_idx];\n",
    "\n",
    "# training classifier\n",
    "clf=tree.DecisionTreeClassifier()\n",
    "clf=clf.fit(train_data,train_target);\n",
    "\n",
    "#prediction using \n",
    "print(clf.predict(test_data));\n",
    "print(test_target);\n",
    "\n",
    "\n",
    "#viz code for visualising the classifier\n",
    "import graphviz\n",
    "from IPython.display import Image  \n",
    "from sklearn.externals.six import StringIO\n",
    "import pydotplus\n",
    "dot_data =StringIO()\n",
    "tree.export_graphviz(clf, out_file=dot_data, feature_names=iris.feature_names,  class_names=iris.target_names, filled=True, rounded=True,impurity=False)  \n",
    "graph = pydotplus.graph_from_dot_data(dot_data.getvalue())  \n",
    "# Image(graph.create_png())  \n",
    "# graph.write_pdf('iris.pdf');\n",
    "print(type(graph))\n",
    "\n"
   ]
  },
  {
   "cell_type": "code",
   "execution_count": 18,
   "metadata": {
    "collapsed": false
   },
   "outputs": [
    {
     "data": {
      "image/png": "[encoded data removed]",
      "text/plain": [
       "<matplotlib.figure.Figure at 0x10d5ef978>"
      ]
     },
     "metadata": {},
     "output_type": "display_data"
    }
   ],
   "source": [
    "#what makes a good feature---recipie 3\n",
    "\n",
    "import numpy as np\n",
    "import matplotlib.pyplot as plt\n",
    "\n",
    "greys=500;\n",
    "labs=500;\n",
    "\n",
    "grey_height= 28 + 4*np.random.randn(greys);\n",
    "lab_height=24+ 4*np.random.randn(labs);\n",
    "\n",
    "plt.hist([grey_height, lab_height],stacked=True,color=['r','b']);\n",
    "plt.show();"
   ]
  },
  {
   "cell_type": "code",
   "execution_count": 28,
   "metadata": {
    "collapsed": false
   },
   "outputs": [
    {
     "name": "stdout",
     "output_type": "stream",
     "text": [
      "[1 0 0 1 0 0 1 2 2 0 2 1 0 1 0 0 1 0 0 1 2 1 0 2 0 0 1 1 2 0 0 1 1 1 2 1 1\n",
      " 0 1 1 0 0 1 1 1 2 2 1 1 2 0 0 1 2 1 1 2 0 0 0 2 2 1 1 2 2 0 0 0 1 1 1 2 1\n",
      " 2]\n",
      "[1 0 0 1 0 0 1 2 2 0 2 1 0 1 0 0 1 0 0 2 2 1 0 2 0 0 1 1 2 0 0 1 1 2 2 1 1\n",
      " 0 1 1 0 0 1 1 1 2 2 1 1 2 0 0 1 2 2 1 2 0 0 0 2 2 1 1 2 2 0 0 0 1 1 1 2 2\n",
      " 1]\n",
      "0.933333333333\n",
      "[1 0 0 1 0 0 1 2 2 0 2 1 0 1 0 0 1 0 0 2 2 1 0 2 0 0 1 1 2 0 0 1 1 2 2 1 1\n",
      " 0 1 1 0 0 1 1 1 2 2 1 1 2 0 0 2 2 2 1 2 0 0 0 2 2 1 1 2 2 0 0 0 1 1 1 2 2\n",
      " 2]\n",
      "[1 0 0 1 0 0 1 2 2 0 2 1 0 1 0 0 1 0 0 2 2 1 0 2 0 0 1 1 2 0 0 1 1 2 2 1 1\n",
      " 0 1 1 0 0 1 1 1 2 2 1 1 2 0 0 1 2 2 1 2 0 0 0 2 2 1 1 2 2 0 0 0 1 1 1 2 2\n",
      " 1]\n",
      "0.973333333333\n"
     ]
    }
   ],
   "source": [
    "#ML-recipie-4--- writing a pipeline\n",
    "from sklearn import datasets\n",
    "iris=datasets.load_iris()\n",
    "\n",
    "X=iris.data;\n",
    "y=iris.target;\n",
    "\n",
    "from sklearn.cross_validation import train_test_split\n",
    "X_train, X_test, y_train, y_test = train_test_split(X,y,test_size=.5)\n",
    "\n",
    "#training and testing using DecisionTreeClassifier\n",
    "from sklearn import tree\n",
    "clf1=tree.DecisionTreeClassifier();\n",
    "clf1=clf1.fit(X_train,y_train)\n",
    "\n",
    "predictions=clf1.predict(X_test);\n",
    "print( predictions);\n",
    "print(y_test)\n",
    "\n",
    "#measuring accuracy\n",
    "from sklearn.metrics import accuracy_score\n",
    "print(accuracy_score(y_test,predictions))\n",
    "\n",
    "#training and testing using KNeighborsClassifier\n",
    "from sklearn.neighbors import KNeighborsClassifier\n",
    "clf2=KNeighborsClassifier();\n",
    "clf2=clf2.fit(X_train,y_train)\n",
    "\n",
    "predictions=clf2.predict(X_test);\n",
    "print( predictions);\n",
    "print(y_test)\n",
    "\n",
    "#measuring accuracy\n",
    "from sklearn.metrics import accuracy_score\n",
    "print(accuracy_score(y_test,predictions))\n"
   ]
  },
  {
   "cell_type": "code",
   "execution_count": null,
   "metadata": {
    "collapsed": true
   },
   "outputs": [],
   "source": []
  },
  {
   "cell_type": "code",
   "execution_count": null,
   "metadata": {
    "collapsed": true
   },
   "outputs": [],
   "source": []
  },
  {
   "cell_type": "code",
   "execution_count": null,
   "metadata": {
    "collapsed": true
   },
   "outputs": [],
   "source": []
  },
  {
   "cell_type": "code",
   "execution_count": null,
   "metadata": {
    "collapsed": true
   },
   "outputs": [],
   "source": []
  },
  {
   "cell_type": "code",
   "execution_count": null,
   "metadata": {
    "collapsed": true
   },
   "outputs": [],
   "source": [
    "#practice area"
   ]
  },
  {
   "cell_type": "code",
   "execution_count": 33,
   "metadata": {
    "collapsed": false
   },
   "outputs": [
    {
     "name": "stdout",
     "output_type": "stream",
     "text": [
      "[[1, 2, 3, 4, 5], [6, 7, 8, 9, 10], [11, 12, 13, 14, 15]]\n"
     ]
    }
   ],
   "source": [
    "arr=[[1,2,3,4,5],[6,7,8,9,10],[11,12,13,14,15]]\n",
    "print(arr)\n"
   ]
  },
  {
   "cell_type": "code",
   "execution_count": 34,
   "metadata": {
    "collapsed": false
   },
   "outputs": [
    {
     "name": "stdout",
     "output_type": "stream",
     "text": [
      "[ 2  3  4  5  7  8  9 10 12 13 14 15]\n"
     ]
    }
   ],
   "source": [
    "import numpy as np\n",
    "arr=np.array(arr)\n",
    "arr1=np.delete(arr,[0,5,10])\n",
    "print(arr1)"
   ]
  },
  {
   "cell_type": "code",
   "execution_count": 29,
   "metadata": {
    "collapsed": false
   },
   "outputs": [
    {
     "ename": "ImportError",
     "evalue": "No module named 'django'",
     "output_type": "error",
     "traceback": [
      "\u001b[0;31m---------------------------------------------------------------------------\u001b[0m",
      "\u001b[0;31mImportError\u001b[0m                               Traceback (most recent call last)",
      "\u001b[0;32m<ipython-input-29-ddd53ea55c12>\u001b[0m in \u001b[0;36m<module>\u001b[0;34m()\u001b[0m\n\u001b[0;32m----> 1\u001b[0;31m \u001b[0;32mimport\u001b[0m \u001b[0mdjango\u001b[0m\u001b[0;34m\u001b[0m\u001b[0m\n\u001b[0m",
      "\u001b[0;31mImportError\u001b[0m: No module named 'django'"
     ]
    }
   ],
   "source": [
    "import django"
   ]
  },
  {
   "cell_type": "code",
   "execution_count": 23,
   "metadata": {
    "collapsed": false
   },
   "outputs": [
    {
     "name": "stdout",
     "output_type": "stream",
     "text": [
      "<class 'list'>\n"
     ]
    }
   ],
   "source": [
    "x=[12,34,3]\n",
    "print(type(x))"
   ]
  },
  {
   "cell_type": "code",
   "execution_count": null,
   "metadata": {
    "collapsed": true
   },
   "outputs": [],
   "source": []
  }
 ],
 "metadata": {
  "anaconda-cloud": {},
  "kernelspec": {
   "display_name": "Python [conda root]",
   "language": "python",
   "name": "conda-root-py"
  },
  "language_info": {
   "codemirror_mode": {
    "name": "ipython",
    "version": 3
   },
   "file_extension": ".py",
   "mimetype": "text/x-python",
   "name": "python",
   "nbconvert_exporter": "python",
   "pygments_lexer": "ipython3",
   "version": "3.5.2"
  }
 },
 "nbformat": 4,
 "nbformat_minor": 1
}
